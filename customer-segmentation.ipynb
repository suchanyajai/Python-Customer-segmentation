{
 "cells": [
  {
   "cell_type": "markdown",
   "metadata": {},
   "source": [
    "# Customer Segmentation with RFM clustering analysis\n",
    "The dataset was downloaded from \n",
    "https://www.kaggle.com/datasets/jihyeseo/online-retail-data-set-from-uci-ml-repo"
   ]
  },
  {
   "cell_type": "code",
   "execution_count": 1,
   "metadata": {},
   "outputs": [],
   "source": [
    "import pandas as pd\n",
    "import seaborn as sns\n",
    "import matplotlib.pyplot as plt\n",
    "import numpy as np"
   ]
  },
  {
   "cell_type": "code",
   "execution_count": 2,
   "metadata": {},
   "outputs": [],
   "source": [
    "data = pd.read_excel('data/Online Retail.xlsx')"
   ]
  },
  {
   "cell_type": "code",
   "execution_count": 3,
   "metadata": {},
   "outputs": [
    {
     "name": "stdout",
     "output_type": "stream",
     "text": [
      "<class 'pandas.core.frame.DataFrame'>\n",
      "RangeIndex: 541909 entries, 0 to 541908\n",
      "Data columns (total 8 columns):\n",
      " #   Column       Non-Null Count   Dtype         \n",
      "---  ------       --------------   -----         \n",
      " 0   InvoiceNo    541909 non-null  object        \n",
      " 1   StockCode    541909 non-null  object        \n",
      " 2   Description  540455 non-null  object        \n",
      " 3   Quantity     541909 non-null  int64         \n",
      " 4   InvoiceDate  541909 non-null  datetime64[ns]\n",
      " 5   UnitPrice    541909 non-null  float64       \n",
      " 6   CustomerID   406829 non-null  float64       \n",
      " 7   Country      541909 non-null  object        \n",
      "dtypes: datetime64[ns](1), float64(2), int64(1), object(4)\n",
      "memory usage: 33.1+ MB\n"
     ]
    }
   ],
   "source": [
    "data.info()"
   ]
  },
  {
   "cell_type": "markdown",
   "metadata": {},
   "source": [
    "ข้อมูลสำคัญอย่าง CustomerID, Description ขาดหาย ไม่ครบตามจำนวนแถว >> ต้อง Droup ทิ้งในแถวที่หาย"
   ]
  },
  {
   "cell_type": "code",
   "execution_count": 4,
   "metadata": {},
   "outputs": [
    {
     "data": {
      "text/plain": [
       "Index(['InvoiceNo', 'StockCode', 'Description', 'Quantity', 'InvoiceDate',\n",
       "       'UnitPrice', 'CustomerID', 'Country'],\n",
       "      dtype='object')"
      ]
     },
     "execution_count": 4,
     "metadata": {},
     "output_type": "execute_result"
    }
   ],
   "source": [
    "data.columns"
   ]
  },
  {
   "cell_type": "code",
   "execution_count": 5,
   "metadata": {},
   "outputs": [],
   "source": [
    "data.columns = ['InvoiceNo', 'StockCode', 'Product', 'Quantity', 'InvoiceDate',\n",
    "    'UnitPrice', 'CustomerID', 'Country']"
   ]
  },
  {
   "cell_type": "markdown",
   "metadata": {},
   "source": [
    "เปลี่ยนชื่อ Column ที่ไม่สอดคล้อง  Description > Product"
   ]
  },
  {
   "cell_type": "code",
   "execution_count": 6,
   "metadata": {},
   "outputs": [
    {
     "data": {
      "text/html": [
       "<div>\n",
       "<style scoped>\n",
       "    .dataframe tbody tr th:only-of-type {\n",
       "        vertical-align: middle;\n",
       "    }\n",
       "\n",
       "    .dataframe tbody tr th {\n",
       "        vertical-align: top;\n",
       "    }\n",
       "\n",
       "    .dataframe thead th {\n",
       "        text-align: right;\n",
       "    }\n",
       "</style>\n",
       "<table border=\"1\" class=\"dataframe\">\n",
       "  <thead>\n",
       "    <tr style=\"text-align: right;\">\n",
       "      <th></th>\n",
       "      <th>InvoiceNo</th>\n",
       "      <th>StockCode</th>\n",
       "      <th>Product</th>\n",
       "      <th>Quantity</th>\n",
       "      <th>InvoiceDate</th>\n",
       "      <th>UnitPrice</th>\n",
       "      <th>CustomerID</th>\n",
       "      <th>Country</th>\n",
       "    </tr>\n",
       "  </thead>\n",
       "  <tbody>\n",
       "    <tr>\n",
       "      <th>0</th>\n",
       "      <td>536365</td>\n",
       "      <td>85123A</td>\n",
       "      <td>WHITE HANGING HEART T-LIGHT HOLDER</td>\n",
       "      <td>6</td>\n",
       "      <td>2010-12-01 08:26:00</td>\n",
       "      <td>2.55</td>\n",
       "      <td>17850.0</td>\n",
       "      <td>United Kingdom</td>\n",
       "    </tr>\n",
       "    <tr>\n",
       "      <th>1</th>\n",
       "      <td>536365</td>\n",
       "      <td>71053</td>\n",
       "      <td>WHITE METAL LANTERN</td>\n",
       "      <td>6</td>\n",
       "      <td>2010-12-01 08:26:00</td>\n",
       "      <td>3.39</td>\n",
       "      <td>17850.0</td>\n",
       "      <td>United Kingdom</td>\n",
       "    </tr>\n",
       "    <tr>\n",
       "      <th>2</th>\n",
       "      <td>536365</td>\n",
       "      <td>84406B</td>\n",
       "      <td>CREAM CUPID HEARTS COAT HANGER</td>\n",
       "      <td>8</td>\n",
       "      <td>2010-12-01 08:26:00</td>\n",
       "      <td>2.75</td>\n",
       "      <td>17850.0</td>\n",
       "      <td>United Kingdom</td>\n",
       "    </tr>\n",
       "    <tr>\n",
       "      <th>3</th>\n",
       "      <td>536365</td>\n",
       "      <td>84029G</td>\n",
       "      <td>KNITTED UNION FLAG HOT WATER BOTTLE</td>\n",
       "      <td>6</td>\n",
       "      <td>2010-12-01 08:26:00</td>\n",
       "      <td>3.39</td>\n",
       "      <td>17850.0</td>\n",
       "      <td>United Kingdom</td>\n",
       "    </tr>\n",
       "    <tr>\n",
       "      <th>4</th>\n",
       "      <td>536365</td>\n",
       "      <td>84029E</td>\n",
       "      <td>RED WOOLLY HOTTIE WHITE HEART.</td>\n",
       "      <td>6</td>\n",
       "      <td>2010-12-01 08:26:00</td>\n",
       "      <td>3.39</td>\n",
       "      <td>17850.0</td>\n",
       "      <td>United Kingdom</td>\n",
       "    </tr>\n",
       "  </tbody>\n",
       "</table>\n",
       "</div>"
      ],
      "text/plain": [
       "  InvoiceNo StockCode                              Product  Quantity  \\\n",
       "0    536365    85123A   WHITE HANGING HEART T-LIGHT HOLDER         6   \n",
       "1    536365     71053                  WHITE METAL LANTERN         6   \n",
       "2    536365    84406B       CREAM CUPID HEARTS COAT HANGER         8   \n",
       "3    536365    84029G  KNITTED UNION FLAG HOT WATER BOTTLE         6   \n",
       "4    536365    84029E       RED WOOLLY HOTTIE WHITE HEART.         6   \n",
       "\n",
       "          InvoiceDate  UnitPrice  CustomerID         Country  \n",
       "0 2010-12-01 08:26:00       2.55     17850.0  United Kingdom  \n",
       "1 2010-12-01 08:26:00       3.39     17850.0  United Kingdom  \n",
       "2 2010-12-01 08:26:00       2.75     17850.0  United Kingdom  \n",
       "3 2010-12-01 08:26:00       3.39     17850.0  United Kingdom  \n",
       "4 2010-12-01 08:26:00       3.39     17850.0  United Kingdom  "
      ]
     },
     "execution_count": 6,
     "metadata": {},
     "output_type": "execute_result"
    }
   ],
   "source": [
    "data.head()"
   ]
  },
  {
   "cell_type": "code",
   "execution_count": 7,
   "metadata": {},
   "outputs": [
    {
     "data": {
      "text/html": [
       "<div>\n",
       "<style scoped>\n",
       "    .dataframe tbody tr th:only-of-type {\n",
       "        vertical-align: middle;\n",
       "    }\n",
       "\n",
       "    .dataframe tbody tr th {\n",
       "        vertical-align: top;\n",
       "    }\n",
       "\n",
       "    .dataframe thead th {\n",
       "        text-align: right;\n",
       "    }\n",
       "</style>\n",
       "<table border=\"1\" class=\"dataframe\">\n",
       "  <thead>\n",
       "    <tr style=\"text-align: right;\">\n",
       "      <th></th>\n",
       "      <th>Quantity</th>\n",
       "      <th>UnitPrice</th>\n",
       "      <th>CustomerID</th>\n",
       "    </tr>\n",
       "  </thead>\n",
       "  <tbody>\n",
       "    <tr>\n",
       "      <th>count</th>\n",
       "      <td>541909.000000</td>\n",
       "      <td>541909.000000</td>\n",
       "      <td>406829.000000</td>\n",
       "    </tr>\n",
       "    <tr>\n",
       "      <th>mean</th>\n",
       "      <td>9.552250</td>\n",
       "      <td>4.611114</td>\n",
       "      <td>15287.690570</td>\n",
       "    </tr>\n",
       "    <tr>\n",
       "      <th>std</th>\n",
       "      <td>218.081158</td>\n",
       "      <td>96.759853</td>\n",
       "      <td>1713.600303</td>\n",
       "    </tr>\n",
       "    <tr>\n",
       "      <th>min</th>\n",
       "      <td>-80995.000000</td>\n",
       "      <td>-11062.060000</td>\n",
       "      <td>12346.000000</td>\n",
       "    </tr>\n",
       "    <tr>\n",
       "      <th>25%</th>\n",
       "      <td>1.000000</td>\n",
       "      <td>1.250000</td>\n",
       "      <td>13953.000000</td>\n",
       "    </tr>\n",
       "    <tr>\n",
       "      <th>50%</th>\n",
       "      <td>3.000000</td>\n",
       "      <td>2.080000</td>\n",
       "      <td>15152.000000</td>\n",
       "    </tr>\n",
       "    <tr>\n",
       "      <th>75%</th>\n",
       "      <td>10.000000</td>\n",
       "      <td>4.130000</td>\n",
       "      <td>16791.000000</td>\n",
       "    </tr>\n",
       "    <tr>\n",
       "      <th>max</th>\n",
       "      <td>80995.000000</td>\n",
       "      <td>38970.000000</td>\n",
       "      <td>18287.000000</td>\n",
       "    </tr>\n",
       "  </tbody>\n",
       "</table>\n",
       "</div>"
      ],
      "text/plain": [
       "            Quantity      UnitPrice     CustomerID\n",
       "count  541909.000000  541909.000000  406829.000000\n",
       "mean        9.552250       4.611114   15287.690570\n",
       "std       218.081158      96.759853    1713.600303\n",
       "min    -80995.000000  -11062.060000   12346.000000\n",
       "25%         1.000000       1.250000   13953.000000\n",
       "50%         3.000000       2.080000   15152.000000\n",
       "75%        10.000000       4.130000   16791.000000\n",
       "max     80995.000000   38970.000000   18287.000000"
      ]
     },
     "execution_count": 7,
     "metadata": {},
     "output_type": "execute_result"
    }
   ],
   "source": [
    "data.describe()"
   ]
  },
  {
   "cell_type": "markdown",
   "metadata": {},
   "source": [
    "ต้องการทำ RFM ข้อมูลสำคัญที่ต้องใช้ในการพิจารณาคือ 1.วันที่ 2.จำนวนครั้ง 3.ยอด"
   ]
  },
  {
   "cell_type": "code",
   "execution_count": 8,
   "metadata": {},
   "outputs": [],
   "source": [
    "# Make CustomerID as string\n",
    "data['CustomerID'] = data['CustomerID'].astype(str)"
   ]
  },
  {
   "cell_type": "code",
   "execution_count": 9,
   "metadata": {},
   "outputs": [],
   "source": [
    "# Remove rows with missing CustomerID\n",
    "data = data[data['CustomerID'] != 'nan']"
   ]
  },
  {
   "cell_type": "code",
   "execution_count": 10,
   "metadata": {},
   "outputs": [
    {
     "data": {
      "text/plain": [
       "InvoiceNo      0\n",
       "StockCode      0\n",
       "Product        0\n",
       "Quantity       0\n",
       "InvoiceDate    0\n",
       "UnitPrice      0\n",
       "CustomerID     0\n",
       "Country        0\n",
       "dtype: int64"
      ]
     },
     "execution_count": 10,
     "metadata": {},
     "output_type": "execute_result"
    }
   ],
   "source": [
    "# number of missing values for each column\n",
    "data.isnull().sum(axis=0)"
   ]
  },
  {
   "cell_type": "code",
   "execution_count": 11,
   "metadata": {},
   "outputs": [],
   "source": [
    "# Show rows with negative Quantity or UnitPrice\n",
    "Return_Discount = data.loc[(data['Quantity'] < 0) | (data['UnitPrice'] < 0)]"
   ]
  },
  {
   "cell_type": "markdown",
   "metadata": {},
   "source": [
    "พิจารณาข้อมูล QTY ที่เป็นลบ >> เป็นเคสที่ลูกค้านำของมาคืน หรือทำ DisCount \n"
   ]
  },
  {
   "cell_type": "code",
   "execution_count": 12,
   "metadata": {},
   "outputs": [
    {
     "data": {
      "text/plain": [
       "-611342.0900000001"
      ]
     },
     "execution_count": 12,
     "metadata": {},
     "output_type": "execute_result"
    }
   ],
   "source": [
    "# compute quantity x UnitPrice\n",
    "data['amount'] = data['Quantity'] * data['UnitPrice']\n",
    "#Choose rows with negative quantity or unitPrice    \n",
    "negative_data =   data.loc[(data['Quantity'] < 0) | (data['UnitPrice'] < 0)]\n",
    "# total Amount for negative data\n",
    "negative_data['amount'].sum()\n"
   ]
  },
  {
   "cell_type": "markdown",
   "metadata": {},
   "source": [
    "ยอดรวมของ Discount และ Return"
   ]
  },
  {
   "cell_type": "code",
   "execution_count": 13,
   "metadata": {},
   "outputs": [
    {
     "data": {
      "text/plain": [
       "8911407.904"
      ]
     },
     "execution_count": 13,
     "metadata": {},
     "output_type": "execute_result"
    }
   ],
   "source": [
    "#choose rows with positive quantity and unitPrice\n",
    "possitive_data = data.loc[(data['Quantity'] > 0) & (data['UnitPrice'] > 0)]\n",
    "# total Amount for positive data\n",
    "possitive_data['amount'].sum()"
   ]
  },
  {
   "cell_type": "markdown",
   "metadata": {},
   "source": [
    "ดังนั้นเมื่อพิจารณา ยอดขายที่เป็นบวก เทียบกับยอดขายที่เป็นลบ พบว่า ยอดขายที่เป็นลบ เป็นเพียง 6.86% เท่านั้น จึงพิจารณา Droup ทิ้ง "
   ]
  },
  {
   "cell_type": "code",
   "execution_count": 14,
   "metadata": {},
   "outputs": [],
   "source": [
    "# Remove rows with negative Quantity or UnitPrice\n",
    "data = data.loc[(data['Quantity'] >= 0) & (data['UnitPrice'] >= 0)]"
   ]
  },
  {
   "cell_type": "markdown",
   "metadata": {},
   "source": [
    "สโคปวิเคราะห์ข้อมูล data ที่ Quantity >= 0 และ UnitPrice >= 0"
   ]
  },
  {
   "cell_type": "code",
   "execution_count": 15,
   "metadata": {},
   "outputs": [
    {
     "data": {
      "text/plain": [
       "(Timestamp('2010-12-01 08:26:00'), Timestamp('2011-12-09 12:50:00'))"
      ]
     },
     "execution_count": 15,
     "metadata": {},
     "output_type": "execute_result"
    }
   ],
   "source": [
    "# Range of InvoiceDate\n",
    "data['InvoiceDate'].min(), data['InvoiceDate'].max()"
   ]
  },
  {
   "cell_type": "markdown",
   "metadata": {},
   "source": [
    "เพื่อดูว่า invoice date อยู่ในช่วงเวลาใด จากคำตอบคือ InviceDate เริ่มต้นคือ 2010-12-01 08:26:00 และ ล่าสุดคือ 2011-12-09 12:50:00"
   ]
  },
  {
   "cell_type": "code",
   "execution_count": 16,
   "metadata": {},
   "outputs": [
    {
     "data": {
      "text/plain": [
       "4339"
      ]
     },
     "execution_count": 16,
     "metadata": {},
     "output_type": "execute_result"
    }
   ],
   "source": [
    "# How many customers are there?\n",
    "len(data['CustomerID'].unique())"
   ]
  },
  {
   "cell_type": "markdown",
   "metadata": {},
   "source": [
    "จำนวนลูกค้าที่เราใช้วิเคราะห์มีทั้งหมด 4,339 ราย"
   ]
  },
  {
   "cell_type": "code",
   "execution_count": 17,
   "metadata": {},
   "outputs": [],
   "source": [
    "# Compute Quantity x UnitPrice\n",
    "data['Amount'] = data['Quantity'] * data['UnitPrice']"
   ]
  },
  {
   "cell_type": "markdown",
   "metadata": {},
   "source": [
    "คำนวณหายอดรวมของการซื้อก่อน เนื่องจากว่า ในข้อมูลให่ QTY และราคาต่อชิ้นมา "
   ]
  },
  {
   "cell_type": "code",
   "execution_count": 18,
   "metadata": {},
   "outputs": [
    {
     "data": {
      "text/plain": [
       "CustomerID\n",
       "12346.0     1\n",
       "12347.0     7\n",
       "12348.0     4\n",
       "12349.0     1\n",
       "12350.0     1\n",
       "           ..\n",
       "18280.0     1\n",
       "18281.0     1\n",
       "18282.0     2\n",
       "18283.0    16\n",
       "18287.0     3\n",
       "Name: Number of Orders, Length: 4339, dtype: int64"
      ]
     },
     "execution_count": 18,
     "metadata": {},
     "output_type": "execute_result"
    }
   ],
   "source": [
    "# For each customer, how many orders they made?\n",
    "num_orders = data.groupby('CustomerID')['InvoiceNo'].nunique()\n",
    "# Rename the column to Number of Orders\n",
    "num_orders = num_orders.rename('Number of Orders')\n",
    "num_orders"
   ]
  },
  {
   "cell_type": "markdown",
   "metadata": {},
   "source": [
    "1. หาว่า แต่ละลูกค้าซื้อของกี่ครั้ง โดยนับจาก เลข invoice\n",
    "2. แก้ไขชื่อ Column จาก InvoiceNo เป็น Number of Orders"
   ]
  },
  {
   "cell_type": "code",
   "execution_count": 19,
   "metadata": {},
   "outputs": [],
   "source": [
    "# For each customer, how many items they bought?\n",
    "num_items = data.groupby(['CustomerID'])['Quantity'].sum()\n",
    "# For each customer, how much money they spent total?\n",
    "money_spent = data.groupby(['CustomerID'])['Amount'].sum()"
   ]
  },
  {
   "cell_type": "markdown",
   "metadata": {},
   "source": [
    "1.หาจำนวน "
   ]
  },
  {
   "cell_type": "code",
   "execution_count": 20,
   "metadata": {},
   "outputs": [
    {
     "data": {
      "text/plain": [
       "count      4339.000000\n",
       "mean       2053.793018\n",
       "std        8988.248381\n",
       "min           0.000000\n",
       "25%         307.245000\n",
       "50%         674.450000\n",
       "75%        1661.640000\n",
       "max      280206.020000\n",
       "Name: Amount, dtype: float64"
      ]
     },
     "execution_count": 20,
     "metadata": {},
     "output_type": "execute_result"
    }
   ],
   "source": [
    "money_spent.describe()"
   ]
  },
  {
   "cell_type": "code",
   "execution_count": 21,
   "metadata": {},
   "outputs": [],
   "source": [
    "# Change InvoiceDate to datetime\n",
    "data['InvoiceDate'] = pd.to_datetime(data['InvoiceDate'])"
   ]
  },
  {
   "cell_type": "code",
   "execution_count": 22,
   "metadata": {},
   "outputs": [],
   "source": [
    "# For each customer, the amount of time since their last order in days counting from 2012-01-01\n",
    "recency = (pd.to_datetime('2012-01-01') - data.groupby(['CustomerID'])['InvoiceDate'].max()).dt.days\n",
    "# Rename to recency\n",
    "recency = recency.rename('recency')"
   ]
  },
  {
   "cell_type": "code",
   "execution_count": 23,
   "metadata": {},
   "outputs": [
    {
     "data": {
      "text/plain": [
       "count    4339.000000\n",
       "mean      244.782899\n",
       "std       117.883623\n",
       "min        22.000000\n",
       "25%       134.000000\n",
       "50%       270.000000\n",
       "75%       348.000000\n",
       "max       395.000000\n",
       "Name: lifetime, dtype: float64"
      ]
     },
     "execution_count": 23,
     "metadata": {},
     "output_type": "execute_result"
    }
   ],
   "source": [
    "# For each customer, the time being customer in days counting from 2012-01-01\n",
    "retention = (pd.to_datetime('2012-01-01') - data.groupby(['CustomerID'])['InvoiceDate'].min()).dt.days\n",
    "\n",
    "# Rename to lifetime\n",
    "retention.rename('lifetime', inplace=True)\n",
    "\n",
    "retention.describe()\n"
   ]
  },
  {
   "cell_type": "code",
   "execution_count": 40,
   "metadata": {},
   "outputs": [
    {
     "data": {
      "text/html": [
       "<div>\n",
       "<style scoped>\n",
       "    .dataframe tbody tr th:only-of-type {\n",
       "        vertical-align: middle;\n",
       "    }\n",
       "\n",
       "    .dataframe tbody tr th {\n",
       "        vertical-align: top;\n",
       "    }\n",
       "\n",
       "    .dataframe thead th {\n",
       "        text-align: right;\n",
       "    }\n",
       "</style>\n",
       "<table border=\"1\" class=\"dataframe\">\n",
       "  <thead>\n",
       "    <tr style=\"text-align: right;\">\n",
       "      <th></th>\n",
       "      <th>Number of Orders</th>\n",
       "      <th>Quantity</th>\n",
       "      <th>Amount</th>\n",
       "      <th>recency</th>\n",
       "      <th>lifetime</th>\n",
       "    </tr>\n",
       "    <tr>\n",
       "      <th>CustomerID</th>\n",
       "      <th></th>\n",
       "      <th></th>\n",
       "      <th></th>\n",
       "      <th></th>\n",
       "      <th></th>\n",
       "    </tr>\n",
       "  </thead>\n",
       "  <tbody>\n",
       "    <tr>\n",
       "      <th>12346.0</th>\n",
       "      <td>1</td>\n",
       "      <td>74215</td>\n",
       "      <td>77183.60</td>\n",
       "      <td>347</td>\n",
       "      <td>347</td>\n",
       "    </tr>\n",
       "    <tr>\n",
       "      <th>12347.0</th>\n",
       "      <td>7</td>\n",
       "      <td>2458</td>\n",
       "      <td>4310.00</td>\n",
       "      <td>24</td>\n",
       "      <td>389</td>\n",
       "    </tr>\n",
       "    <tr>\n",
       "      <th>12348.0</th>\n",
       "      <td>4</td>\n",
       "      <td>2341</td>\n",
       "      <td>1797.24</td>\n",
       "      <td>97</td>\n",
       "      <td>380</td>\n",
       "    </tr>\n",
       "    <tr>\n",
       "      <th>12349.0</th>\n",
       "      <td>1</td>\n",
       "      <td>631</td>\n",
       "      <td>1757.55</td>\n",
       "      <td>40</td>\n",
       "      <td>40</td>\n",
       "    </tr>\n",
       "    <tr>\n",
       "      <th>12350.0</th>\n",
       "      <td>1</td>\n",
       "      <td>197</td>\n",
       "      <td>334.40</td>\n",
       "      <td>332</td>\n",
       "      <td>332</td>\n",
       "    </tr>\n",
       "    <tr>\n",
       "      <th>...</th>\n",
       "      <td>...</td>\n",
       "      <td>...</td>\n",
       "      <td>...</td>\n",
       "      <td>...</td>\n",
       "      <td>...</td>\n",
       "    </tr>\n",
       "    <tr>\n",
       "      <th>18280.0</th>\n",
       "      <td>1</td>\n",
       "      <td>45</td>\n",
       "      <td>180.60</td>\n",
       "      <td>299</td>\n",
       "      <td>299</td>\n",
       "    </tr>\n",
       "    <tr>\n",
       "      <th>18281.0</th>\n",
       "      <td>1</td>\n",
       "      <td>54</td>\n",
       "      <td>80.82</td>\n",
       "      <td>202</td>\n",
       "      <td>202</td>\n",
       "    </tr>\n",
       "    <tr>\n",
       "      <th>18282.0</th>\n",
       "      <td>2</td>\n",
       "      <td>103</td>\n",
       "      <td>178.05</td>\n",
       "      <td>29</td>\n",
       "      <td>148</td>\n",
       "    </tr>\n",
       "    <tr>\n",
       "      <th>18283.0</th>\n",
       "      <td>16</td>\n",
       "      <td>1397</td>\n",
       "      <td>2094.88</td>\n",
       "      <td>25</td>\n",
       "      <td>359</td>\n",
       "    </tr>\n",
       "    <tr>\n",
       "      <th>18287.0</th>\n",
       "      <td>3</td>\n",
       "      <td>1586</td>\n",
       "      <td>1837.28</td>\n",
       "      <td>64</td>\n",
       "      <td>223</td>\n",
       "    </tr>\n",
       "  </tbody>\n",
       "</table>\n",
       "<p>4339 rows × 5 columns</p>\n",
       "</div>"
      ],
      "text/plain": [
       "            Number of Orders  Quantity    Amount  recency  lifetime\n",
       "CustomerID                                                         \n",
       "12346.0                    1     74215  77183.60      347       347\n",
       "12347.0                    7      2458   4310.00       24       389\n",
       "12348.0                    4      2341   1797.24       97       380\n",
       "12349.0                    1       631   1757.55       40        40\n",
       "12350.0                    1       197    334.40      332       332\n",
       "...                      ...       ...       ...      ...       ...\n",
       "18280.0                    1        45    180.60      299       299\n",
       "18281.0                    1        54     80.82      202       202\n",
       "18282.0                    2       103    178.05       29       148\n",
       "18283.0                   16      1397   2094.88       25       359\n",
       "18287.0                    3      1586   1837.28       64       223\n",
       "\n",
       "[4339 rows x 5 columns]"
      ]
     },
     "execution_count": 40,
     "metadata": {},
     "output_type": "execute_result"
    }
   ],
   "source": [
    "# combine num_orders num_items money_spent recency\n",
    "rfm = pd.concat([num_orders, num_items, money_spent, recency, retention], axis=1)\n",
    "rfm"
   ]
  },
  {
   "cell_type": "code",
   "execution_count": 41,
   "metadata": {},
   "outputs": [],
   "source": [
    "# Compute frequency as NumInvoices / (lifetime / 30)\n",
    "rfm['frequency'] = rfm['Number of Orders'] / (rfm['lifetime'] / 30)\n",
    "# Drop NumInvoices and Quantity and lifetime\n",
    "rfm.drop(['Number of Orders', 'Quantity','lifetime'], axis=1, inplace=True)"
   ]
  },
  {
   "cell_type": "code",
   "execution_count": 42,
   "metadata": {},
   "outputs": [
    {
     "data": {
      "text/html": [
       "<div>\n",
       "<style scoped>\n",
       "    .dataframe tbody tr th:only-of-type {\n",
       "        vertical-align: middle;\n",
       "    }\n",
       "\n",
       "    .dataframe tbody tr th {\n",
       "        vertical-align: top;\n",
       "    }\n",
       "\n",
       "    .dataframe thead th {\n",
       "        text-align: right;\n",
       "    }\n",
       "</style>\n",
       "<table border=\"1\" class=\"dataframe\">\n",
       "  <thead>\n",
       "    <tr style=\"text-align: right;\">\n",
       "      <th></th>\n",
       "      <th>Amount</th>\n",
       "      <th>recency</th>\n",
       "      <th>frequency</th>\n",
       "    </tr>\n",
       "  </thead>\n",
       "  <tbody>\n",
       "    <tr>\n",
       "      <th>count</th>\n",
       "      <td>4339.000000</td>\n",
       "      <td>4339.000000</td>\n",
       "      <td>4339.000000</td>\n",
       "    </tr>\n",
       "    <tr>\n",
       "      <th>mean</th>\n",
       "      <td>2053.793018</td>\n",
       "      <td>114.041484</td>\n",
       "      <td>0.544938</td>\n",
       "    </tr>\n",
       "    <tr>\n",
       "      <th>std</th>\n",
       "      <td>8988.248381</td>\n",
       "      <td>100.007757</td>\n",
       "      <td>0.649331</td>\n",
       "    </tr>\n",
       "    <tr>\n",
       "      <th>min</th>\n",
       "      <td>0.000000</td>\n",
       "      <td>22.000000</td>\n",
       "      <td>0.075949</td>\n",
       "    </tr>\n",
       "    <tr>\n",
       "      <th>25%</th>\n",
       "      <td>307.245000</td>\n",
       "      <td>39.000000</td>\n",
       "      <td>0.211268</td>\n",
       "    </tr>\n",
       "    <tr>\n",
       "      <th>50%</th>\n",
       "      <td>674.450000</td>\n",
       "      <td>72.000000</td>\n",
       "      <td>0.384615</td>\n",
       "    </tr>\n",
       "    <tr>\n",
       "      <th>75%</th>\n",
       "      <td>1661.640000</td>\n",
       "      <td>163.500000</td>\n",
       "      <td>0.666667</td>\n",
       "    </tr>\n",
       "    <tr>\n",
       "      <th>max</th>\n",
       "      <td>280206.020000</td>\n",
       "      <td>395.000000</td>\n",
       "      <td>15.949367</td>\n",
       "    </tr>\n",
       "  </tbody>\n",
       "</table>\n",
       "</div>"
      ],
      "text/plain": [
       "              Amount      recency    frequency\n",
       "count    4339.000000  4339.000000  4339.000000\n",
       "mean     2053.793018   114.041484     0.544938\n",
       "std      8988.248381   100.007757     0.649331\n",
       "min         0.000000    22.000000     0.075949\n",
       "25%       307.245000    39.000000     0.211268\n",
       "50%       674.450000    72.000000     0.384615\n",
       "75%      1661.640000   163.500000     0.666667\n",
       "max    280206.020000   395.000000    15.949367"
      ]
     },
     "execution_count": 42,
     "metadata": {},
     "output_type": "execute_result"
    }
   ],
   "source": [
    "rfm.describe()"
   ]
  },
  {
   "cell_type": "code",
   "execution_count": 43,
   "metadata": {},
   "outputs": [
    {
     "data": {
      "text/html": [
       "<div>\n",
       "<style scoped>\n",
       "    .dataframe tbody tr th:only-of-type {\n",
       "        vertical-align: middle;\n",
       "    }\n",
       "\n",
       "    .dataframe tbody tr th {\n",
       "        vertical-align: top;\n",
       "    }\n",
       "\n",
       "    .dataframe thead th {\n",
       "        text-align: right;\n",
       "    }\n",
       "</style>\n",
       "<table border=\"1\" class=\"dataframe\">\n",
       "  <thead>\n",
       "    <tr style=\"text-align: right;\">\n",
       "      <th></th>\n",
       "      <th>Amount</th>\n",
       "      <th>recency</th>\n",
       "      <th>frequency</th>\n",
       "    </tr>\n",
       "    <tr>\n",
       "      <th>CustomerID</th>\n",
       "      <th></th>\n",
       "      <th></th>\n",
       "      <th></th>\n",
       "    </tr>\n",
       "  </thead>\n",
       "  <tbody>\n",
       "    <tr>\n",
       "      <th>14646.0</th>\n",
       "      <td>280206.02</td>\n",
       "      <td>23</td>\n",
       "      <td>5.904255</td>\n",
       "    </tr>\n",
       "    <tr>\n",
       "      <th>18102.0</th>\n",
       "      <td>259657.30</td>\n",
       "      <td>22</td>\n",
       "      <td>4.627249</td>\n",
       "    </tr>\n",
       "    <tr>\n",
       "      <th>17450.0</th>\n",
       "      <td>194550.79</td>\n",
       "      <td>30</td>\n",
       "      <td>3.547558</td>\n",
       "    </tr>\n",
       "    <tr>\n",
       "      <th>16446.0</th>\n",
       "      <td>168472.50</td>\n",
       "      <td>22</td>\n",
       "      <td>0.264317</td>\n",
       "    </tr>\n",
       "    <tr>\n",
       "      <th>14911.0</th>\n",
       "      <td>143825.06</td>\n",
       "      <td>23</td>\n",
       "      <td>15.265823</td>\n",
       "    </tr>\n",
       "    <tr>\n",
       "      <th>12415.0</th>\n",
       "      <td>124914.53</td>\n",
       "      <td>46</td>\n",
       "      <td>1.754875</td>\n",
       "    </tr>\n",
       "    <tr>\n",
       "      <th>14156.0</th>\n",
       "      <td>117379.63</td>\n",
       "      <td>31</td>\n",
       "      <td>4.198473</td>\n",
       "    </tr>\n",
       "    <tr>\n",
       "      <th>17511.0</th>\n",
       "      <td>91062.38</td>\n",
       "      <td>24</td>\n",
       "      <td>2.354430</td>\n",
       "    </tr>\n",
       "    <tr>\n",
       "      <th>16029.0</th>\n",
       "      <td>81024.84</td>\n",
       "      <td>60</td>\n",
       "      <td>4.784810</td>\n",
       "    </tr>\n",
       "    <tr>\n",
       "      <th>12346.0</th>\n",
       "      <td>77183.60</td>\n",
       "      <td>347</td>\n",
       "      <td>0.086455</td>\n",
       "    </tr>\n",
       "    <tr>\n",
       "      <th>16684.0</th>\n",
       "      <td>66653.56</td>\n",
       "      <td>26</td>\n",
       "      <td>2.210526</td>\n",
       "    </tr>\n",
       "    <tr>\n",
       "      <th>14096.0</th>\n",
       "      <td>65164.79</td>\n",
       "      <td>26</td>\n",
       "      <td>4.146341</td>\n",
       "    </tr>\n",
       "    <tr>\n",
       "      <th>13694.0</th>\n",
       "      <td>65039.62</td>\n",
       "      <td>25</td>\n",
       "      <td>3.797468</td>\n",
       "    </tr>\n",
       "    <tr>\n",
       "      <th>15311.0</th>\n",
       "      <td>60767.90</td>\n",
       "      <td>22</td>\n",
       "      <td>6.911392</td>\n",
       "    </tr>\n",
       "    <tr>\n",
       "      <th>13089.0</th>\n",
       "      <td>58825.83</td>\n",
       "      <td>24</td>\n",
       "      <td>7.442455</td>\n",
       "    </tr>\n",
       "    <tr>\n",
       "      <th>17949.0</th>\n",
       "      <td>58510.48</td>\n",
       "      <td>23</td>\n",
       "      <td>3.435115</td>\n",
       "    </tr>\n",
       "    <tr>\n",
       "      <th>15769.0</th>\n",
       "      <td>56252.72</td>\n",
       "      <td>29</td>\n",
       "      <td>1.984733</td>\n",
       "    </tr>\n",
       "    <tr>\n",
       "      <th>15061.0</th>\n",
       "      <td>54534.14</td>\n",
       "      <td>25</td>\n",
       "      <td>3.654822</td>\n",
       "    </tr>\n",
       "    <tr>\n",
       "      <th>14298.0</th>\n",
       "      <td>51527.30</td>\n",
       "      <td>30</td>\n",
       "      <td>3.455497</td>\n",
       "    </tr>\n",
       "    <tr>\n",
       "      <th>14088.0</th>\n",
       "      <td>50491.81</td>\n",
       "      <td>32</td>\n",
       "      <td>1.133721</td>\n",
       "    </tr>\n",
       "    <tr>\n",
       "      <th>15749.0</th>\n",
       "      <td>44534.30</td>\n",
       "      <td>257</td>\n",
       "      <td>0.254237</td>\n",
       "    </tr>\n",
       "    <tr>\n",
       "      <th>12931.0</th>\n",
       "      <td>42055.96</td>\n",
       "      <td>43</td>\n",
       "      <td>1.187335</td>\n",
       "    </tr>\n",
       "    <tr>\n",
       "      <th>17841.0</th>\n",
       "      <td>40991.57</td>\n",
       "      <td>23</td>\n",
       "      <td>9.417722</td>\n",
       "    </tr>\n",
       "    <tr>\n",
       "      <th>15098.0</th>\n",
       "      <td>39916.50</td>\n",
       "      <td>204</td>\n",
       "      <td>0.441176</td>\n",
       "    </tr>\n",
       "    <tr>\n",
       "      <th>13798.0</th>\n",
       "      <td>37153.85</td>\n",
       "      <td>23</td>\n",
       "      <td>4.340102</td>\n",
       "    </tr>\n",
       "    <tr>\n",
       "      <th>16013.0</th>\n",
       "      <td>37130.60</td>\n",
       "      <td>25</td>\n",
       "      <td>3.587786</td>\n",
       "    </tr>\n",
       "    <tr>\n",
       "      <th>16422.0</th>\n",
       "      <td>34684.40</td>\n",
       "      <td>39</td>\n",
       "      <td>3.913043</td>\n",
       "    </tr>\n",
       "    <tr>\n",
       "      <th>12748.0</th>\n",
       "      <td>33719.73</td>\n",
       "      <td>22</td>\n",
       "      <td>15.949367</td>\n",
       "    </tr>\n",
       "    <tr>\n",
       "      <th>15838.0</th>\n",
       "      <td>33643.08</td>\n",
       "      <td>33</td>\n",
       "      <td>1.465296</td>\n",
       "    </tr>\n",
       "    <tr>\n",
       "      <th>17404.0</th>\n",
       "      <td>31906.82</td>\n",
       "      <td>26</td>\n",
       "      <td>1.178010</td>\n",
       "    </tr>\n",
       "    <tr>\n",
       "      <th>17389.0</th>\n",
       "      <td>31833.68</td>\n",
       "      <td>22</td>\n",
       "      <td>2.889518</td>\n",
       "    </tr>\n",
       "    <tr>\n",
       "      <th>13098.0</th>\n",
       "      <td>28882.44</td>\n",
       "      <td>23</td>\n",
       "      <td>2.477876</td>\n",
       "    </tr>\n",
       "    <tr>\n",
       "      <th>14680.0</th>\n",
       "      <td>28754.11</td>\n",
       "      <td>47</td>\n",
       "      <td>1.221374</td>\n",
       "    </tr>\n",
       "    <tr>\n",
       "      <th>13081.0</th>\n",
       "      <td>28337.38</td>\n",
       "      <td>33</td>\n",
       "      <td>0.839695</td>\n",
       "    </tr>\n",
       "    <tr>\n",
       "      <th>13408.0</th>\n",
       "      <td>28117.04</td>\n",
       "      <td>23</td>\n",
       "      <td>4.708861</td>\n",
       "    </tr>\n",
       "  </tbody>\n",
       "</table>\n",
       "</div>"
      ],
      "text/plain": [
       "               Amount  recency  frequency\n",
       "CustomerID                               \n",
       "14646.0     280206.02       23   5.904255\n",
       "18102.0     259657.30       22   4.627249\n",
       "17450.0     194550.79       30   3.547558\n",
       "16446.0     168472.50       22   0.264317\n",
       "14911.0     143825.06       23  15.265823\n",
       "12415.0     124914.53       46   1.754875\n",
       "14156.0     117379.63       31   4.198473\n",
       "17511.0      91062.38       24   2.354430\n",
       "16029.0      81024.84       60   4.784810\n",
       "12346.0      77183.60      347   0.086455\n",
       "16684.0      66653.56       26   2.210526\n",
       "14096.0      65164.79       26   4.146341\n",
       "13694.0      65039.62       25   3.797468\n",
       "15311.0      60767.90       22   6.911392\n",
       "13089.0      58825.83       24   7.442455\n",
       "17949.0      58510.48       23   3.435115\n",
       "15769.0      56252.72       29   1.984733\n",
       "15061.0      54534.14       25   3.654822\n",
       "14298.0      51527.30       30   3.455497\n",
       "14088.0      50491.81       32   1.133721\n",
       "15749.0      44534.30      257   0.254237\n",
       "12931.0      42055.96       43   1.187335\n",
       "17841.0      40991.57       23   9.417722\n",
       "15098.0      39916.50      204   0.441176\n",
       "13798.0      37153.85       23   4.340102\n",
       "16013.0      37130.60       25   3.587786\n",
       "16422.0      34684.40       39   3.913043\n",
       "12748.0      33719.73       22  15.949367\n",
       "15838.0      33643.08       33   1.465296\n",
       "17404.0      31906.82       26   1.178010\n",
       "17389.0      31833.68       22   2.889518\n",
       "13098.0      28882.44       23   2.477876\n",
       "14680.0      28754.11       47   1.221374\n",
       "13081.0      28337.38       33   0.839695\n",
       "13408.0      28117.04       23   4.708861"
      ]
     },
     "execution_count": 43,
     "metadata": {},
     "output_type": "execute_result"
    }
   ],
   "source": [
    "# Show rows where Amount is greater than 3 standard deviations\n",
    "rfm.loc[rfm['Amount'] > 3 * rfm['Amount'].std()].sort_values('Amount', ascending=False)"
   ]
  },
  {
   "cell_type": "code",
   "execution_count": 44,
   "metadata": {},
   "outputs": [
    {
     "data": {
      "text/html": [
       "<div>\n",
       "<style scoped>\n",
       "    .dataframe tbody tr th:only-of-type {\n",
       "        vertical-align: middle;\n",
       "    }\n",
       "\n",
       "    .dataframe tbody tr th {\n",
       "        vertical-align: top;\n",
       "    }\n",
       "\n",
       "    .dataframe thead th {\n",
       "        text-align: right;\n",
       "    }\n",
       "</style>\n",
       "<table border=\"1\" class=\"dataframe\">\n",
       "  <thead>\n",
       "    <tr style=\"text-align: right;\">\n",
       "      <th></th>\n",
       "      <th>InvoiceNo</th>\n",
       "      <th>StockCode</th>\n",
       "      <th>Product</th>\n",
       "      <th>Quantity</th>\n",
       "      <th>InvoiceDate</th>\n",
       "      <th>UnitPrice</th>\n",
       "      <th>CustomerID</th>\n",
       "      <th>Country</th>\n",
       "      <th>amount</th>\n",
       "      <th>Amount</th>\n",
       "    </tr>\n",
       "  </thead>\n",
       "  <tbody>\n",
       "    <tr>\n",
       "      <th>37952</th>\n",
       "      <td>539491</td>\n",
       "      <td>21981</td>\n",
       "      <td>PACK OF 12 WOODLAND TISSUES</td>\n",
       "      <td>12</td>\n",
       "      <td>2010-12-20 10:09:00</td>\n",
       "      <td>0.29</td>\n",
       "      <td>14646.0</td>\n",
       "      <td>Netherlands</td>\n",
       "      <td>3.48</td>\n",
       "      <td>3.48</td>\n",
       "    </tr>\n",
       "    <tr>\n",
       "      <th>37953</th>\n",
       "      <td>539491</td>\n",
       "      <td>21986</td>\n",
       "      <td>PACK OF 12 PINK POLKADOT TISSUES</td>\n",
       "      <td>12</td>\n",
       "      <td>2010-12-20 10:09:00</td>\n",
       "      <td>0.29</td>\n",
       "      <td>14646.0</td>\n",
       "      <td>Netherlands</td>\n",
       "      <td>3.48</td>\n",
       "      <td>3.48</td>\n",
       "    </tr>\n",
       "    <tr>\n",
       "      <th>37954</th>\n",
       "      <td>539491</td>\n",
       "      <td>22720</td>\n",
       "      <td>SET OF 3 CAKE TINS PANTRY DESIGN</td>\n",
       "      <td>2</td>\n",
       "      <td>2010-12-20 10:09:00</td>\n",
       "      <td>4.95</td>\n",
       "      <td>14646.0</td>\n",
       "      <td>Netherlands</td>\n",
       "      <td>9.90</td>\n",
       "      <td>9.90</td>\n",
       "    </tr>\n",
       "    <tr>\n",
       "      <th>37955</th>\n",
       "      <td>539491</td>\n",
       "      <td>21931</td>\n",
       "      <td>JUMBO STORAGE BAG SUKI</td>\n",
       "      <td>1</td>\n",
       "      <td>2010-12-20 10:09:00</td>\n",
       "      <td>1.95</td>\n",
       "      <td>14646.0</td>\n",
       "      <td>Netherlands</td>\n",
       "      <td>1.95</td>\n",
       "      <td>1.95</td>\n",
       "    </tr>\n",
       "    <tr>\n",
       "      <th>37956</th>\n",
       "      <td>539491</td>\n",
       "      <td>22613</td>\n",
       "      <td>PACK OF 20 SPACEBOY NAPKINS</td>\n",
       "      <td>2</td>\n",
       "      <td>2010-12-20 10:09:00</td>\n",
       "      <td>0.85</td>\n",
       "      <td>14646.0</td>\n",
       "      <td>Netherlands</td>\n",
       "      <td>1.70</td>\n",
       "      <td>1.70</td>\n",
       "    </tr>\n",
       "    <tr>\n",
       "      <th>...</th>\n",
       "      <td>...</td>\n",
       "      <td>...</td>\n",
       "      <td>...</td>\n",
       "      <td>...</td>\n",
       "      <td>...</td>\n",
       "      <td>...</td>\n",
       "      <td>...</td>\n",
       "      <td>...</td>\n",
       "      <td>...</td>\n",
       "      <td>...</td>\n",
       "    </tr>\n",
       "    <tr>\n",
       "      <th>534958</th>\n",
       "      <td>581176</td>\n",
       "      <td>22908</td>\n",
       "      <td>PACK OF 20 NAPKINS RED APPLES</td>\n",
       "      <td>96</td>\n",
       "      <td>2011-12-07 15:19:00</td>\n",
       "      <td>0.72</td>\n",
       "      <td>14646.0</td>\n",
       "      <td>Netherlands</td>\n",
       "      <td>69.12</td>\n",
       "      <td>69.12</td>\n",
       "    </tr>\n",
       "    <tr>\n",
       "      <th>534959</th>\n",
       "      <td>581176</td>\n",
       "      <td>22907</td>\n",
       "      <td>PACK OF 20 NAPKINS PANTRY DESIGN</td>\n",
       "      <td>96</td>\n",
       "      <td>2011-12-07 15:19:00</td>\n",
       "      <td>0.72</td>\n",
       "      <td>14646.0</td>\n",
       "      <td>Netherlands</td>\n",
       "      <td>69.12</td>\n",
       "      <td>69.12</td>\n",
       "    </tr>\n",
       "    <tr>\n",
       "      <th>534960</th>\n",
       "      <td>581176</td>\n",
       "      <td>22029</td>\n",
       "      <td>SPACEBOY BIRTHDAY CARD</td>\n",
       "      <td>72</td>\n",
       "      <td>2011-12-07 15:19:00</td>\n",
       "      <td>0.36</td>\n",
       "      <td>14646.0</td>\n",
       "      <td>Netherlands</td>\n",
       "      <td>25.92</td>\n",
       "      <td>25.92</td>\n",
       "    </tr>\n",
       "    <tr>\n",
       "      <th>534961</th>\n",
       "      <td>581176</td>\n",
       "      <td>22712</td>\n",
       "      <td>CARD DOLLY GIRL</td>\n",
       "      <td>72</td>\n",
       "      <td>2011-12-07 15:19:00</td>\n",
       "      <td>0.36</td>\n",
       "      <td>14646.0</td>\n",
       "      <td>Netherlands</td>\n",
       "      <td>25.92</td>\n",
       "      <td>25.92</td>\n",
       "    </tr>\n",
       "    <tr>\n",
       "      <th>537783</th>\n",
       "      <td>581338</td>\n",
       "      <td>23344</td>\n",
       "      <td>JUMBO BAG 50'S CHRISTMAS</td>\n",
       "      <td>140</td>\n",
       "      <td>2011-12-08 12:12:00</td>\n",
       "      <td>1.79</td>\n",
       "      <td>14646.0</td>\n",
       "      <td>Netherlands</td>\n",
       "      <td>250.60</td>\n",
       "      <td>250.60</td>\n",
       "    </tr>\n",
       "  </tbody>\n",
       "</table>\n",
       "<p>2080 rows × 10 columns</p>\n",
       "</div>"
      ],
      "text/plain": [
       "       InvoiceNo StockCode                            Product  Quantity  \\\n",
       "37952     539491     21981       PACK OF 12 WOODLAND TISSUES         12   \n",
       "37953     539491     21986   PACK OF 12 PINK POLKADOT TISSUES        12   \n",
       "37954     539491     22720  SET OF 3 CAKE TINS PANTRY DESIGN          2   \n",
       "37955     539491     21931             JUMBO STORAGE BAG SUKI         1   \n",
       "37956     539491     22613        PACK OF 20 SPACEBOY NAPKINS         2   \n",
       "...          ...       ...                                ...       ...   \n",
       "534958    581176     22908      PACK OF 20 NAPKINS RED APPLES        96   \n",
       "534959    581176     22907   PACK OF 20 NAPKINS PANTRY DESIGN        96   \n",
       "534960    581176     22029             SPACEBOY BIRTHDAY CARD        72   \n",
       "534961    581176     22712                   CARD DOLLY GIRL         72   \n",
       "537783    581338     23344          JUMBO BAG 50'S CHRISTMAS        140   \n",
       "\n",
       "               InvoiceDate  UnitPrice CustomerID      Country  amount  Amount  \n",
       "37952  2010-12-20 10:09:00       0.29    14646.0  Netherlands    3.48    3.48  \n",
       "37953  2010-12-20 10:09:00       0.29    14646.0  Netherlands    3.48    3.48  \n",
       "37954  2010-12-20 10:09:00       4.95    14646.0  Netherlands    9.90    9.90  \n",
       "37955  2010-12-20 10:09:00       1.95    14646.0  Netherlands    1.95    1.95  \n",
       "37956  2010-12-20 10:09:00       0.85    14646.0  Netherlands    1.70    1.70  \n",
       "...                    ...        ...        ...          ...     ...     ...  \n",
       "534958 2011-12-07 15:19:00       0.72    14646.0  Netherlands   69.12   69.12  \n",
       "534959 2011-12-07 15:19:00       0.72    14646.0  Netherlands   69.12   69.12  \n",
       "534960 2011-12-07 15:19:00       0.36    14646.0  Netherlands   25.92   25.92  \n",
       "534961 2011-12-07 15:19:00       0.36    14646.0  Netherlands   25.92   25.92  \n",
       "537783 2011-12-08 12:12:00       1.79    14646.0  Netherlands  250.60  250.60  \n",
       "\n",
       "[2080 rows x 10 columns]"
      ]
     },
     "execution_count": 44,
     "metadata": {},
     "output_type": "execute_result"
    }
   ],
   "source": [
    "data[data['CustomerID'] == '14646.0']"
   ]
  },
  {
   "cell_type": "code",
   "execution_count": 45,
   "metadata": {},
   "outputs": [],
   "source": [
    "# z-score all columns of rfm\n",
    "rfm_zscore = (rfm - rfm.mean()) / rfm.std()"
   ]
  },
  {
   "cell_type": "code",
   "execution_count": 204,
   "metadata": {},
   "outputs": [
    {
     "name": "stdout",
     "output_type": "stream",
     "text": [
      "Defaulting to user installation because normal site-packages is not writeable\n",
      "Requirement already satisfied: scikit-learn in c:\\programdata\\anaconda3\\lib\\site-packages (1.2.1)\n",
      "Requirement already satisfied: joblib>=1.1.1 in c:\\programdata\\anaconda3\\lib\\site-packages (from scikit-learn) (1.1.1)\n",
      "Requirement already satisfied: numpy>=1.17.3 in c:\\programdata\\anaconda3\\lib\\site-packages (from scikit-learn) (1.23.5)\n",
      "Requirement already satisfied: threadpoolctl>=2.0.0 in c:\\programdata\\anaconda3\\lib\\site-packages (from scikit-learn) (2.2.0)\n",
      "Requirement already satisfied: scipy>=1.3.2 in c:\\programdata\\anaconda3\\lib\\site-packages (from scikit-learn) (1.10.0)\n"
     ]
    }
   ],
   "source": [
    "!pip install scikit-learn"
   ]
  },
  {
   "cell_type": "code",
   "execution_count": 46,
   "metadata": {},
   "outputs": [
    {
     "data": {
      "image/png": "[encoded data removed]",
      "text/plain": [
       "<Figure size 640x480 with 1 Axes>"
      ]
     },
     "metadata": {},
     "output_type": "display_data"
    }
   ],
   "source": [
    "# k-means clustering with silouette score\n",
    "from sklearn.cluster import KMeans\n",
    "from sklearn.metrics import silhouette_score\n",
    "\n",
    "# Try k from 4 to 8\n",
    "k_range = range(4, 9)\n",
    "# Silhouette score\n",
    "silhouette = []\n",
    "for k in k_range:\n",
    "    # Create a KMeans instance with k clusters and n_\n",
    "    kmeans = KMeans(n_clusters=k, random_state=10, n_init=20)\n",
    "    # Fit the input data. Notice we don't use y\n",
    "    kmeans.fit(rfm_zscore)\n",
    "    # Append the silhouette score\n",
    "    silhouette.append(silhouette_score(rfm_zscore, kmeans.labels_))\n",
    "# Plot silhouette score vs k \n",
    "plt.plot(k_range, silhouette)\n",
    "plt.xlabel('Number of clusters')\n",
    "plt.ylabel('Silhouette score')\n",
    "plt.show()"
   ]
  },
  {
   "cell_type": "code",
   "execution_count": 47,
   "metadata": {},
   "outputs": [
    {
     "name": "stderr",
     "output_type": "stream",
     "text": [
      "c:\\ProgramData\\anaconda3\\lib\\site-packages\\sklearn\\cluster\\_kmeans.py:870: FutureWarning: The default value of `n_init` will change from 10 to 'auto' in 1.4. Set the value of `n_init` explicitly to suppress the warning\n",
      "  warnings.warn(\n"
     ]
    },
    {
     "data": {
      "text/html": [
       "<div>\n",
       "<style scoped>\n",
       "    .dataframe tbody tr th:only-of-type {\n",
       "        vertical-align: middle;\n",
       "    }\n",
       "\n",
       "    .dataframe tbody tr th {\n",
       "        vertical-align: top;\n",
       "    }\n",
       "\n",
       "    .dataframe thead th {\n",
       "        text-align: right;\n",
       "    }\n",
       "</style>\n",
       "<table border=\"1\" class=\"dataframe\">\n",
       "  <thead>\n",
       "    <tr style=\"text-align: right;\">\n",
       "      <th></th>\n",
       "      <th>Amount</th>\n",
       "      <th>recency</th>\n",
       "      <th>frequency</th>\n",
       "    </tr>\n",
       "  </thead>\n",
       "  <tbody>\n",
       "    <tr>\n",
       "      <th>0</th>\n",
       "      <td>-0.124547</td>\n",
       "      <td>-0.239929</td>\n",
       "      <td>-0.319557</td>\n",
       "    </tr>\n",
       "    <tr>\n",
       "      <th>1</th>\n",
       "      <td>6.339685</td>\n",
       "      <td>-0.698456</td>\n",
       "      <td>5.138531</td>\n",
       "    </tr>\n",
       "    <tr>\n",
       "      <th>2</th>\n",
       "      <td>-0.168104</td>\n",
       "      <td>1.658117</td>\n",
       "      <td>-0.610687</td>\n",
       "    </tr>\n",
       "    <tr>\n",
       "      <th>3</th>\n",
       "      <td>24.884477</td>\n",
       "      <td>-0.897845</td>\n",
       "      <td>4.683140</td>\n",
       "    </tr>\n",
       "    <tr>\n",
       "      <th>4</th>\n",
       "      <td>7.876024</td>\n",
       "      <td>-0.913677</td>\n",
       "      <td>20.019637</td>\n",
       "    </tr>\n",
       "    <tr>\n",
       "      <th>5</th>\n",
       "      <td>0.527629</td>\n",
       "      <td>-0.814479</td>\n",
       "      <td>2.124256</td>\n",
       "    </tr>\n",
       "    <tr>\n",
       "      <th>6</th>\n",
       "      <td>0.006293</td>\n",
       "      <td>-0.732560</td>\n",
       "      <td>0.373621</td>\n",
       "    </tr>\n",
       "  </tbody>\n",
       "</table>\n",
       "</div>"
      ],
      "text/plain": [
       "      Amount   recency  frequency\n",
       "0  -0.124547 -0.239929  -0.319557\n",
       "1   6.339685 -0.698456   5.138531\n",
       "2  -0.168104  1.658117  -0.610687\n",
       "3  24.884477 -0.897845   4.683140\n",
       "4   7.876024 -0.913677  20.019637\n",
       "5   0.527629 -0.814479   2.124256\n",
       "6   0.006293 -0.732560   0.373621"
      ]
     },
     "execution_count": 47,
     "metadata": {},
     "output_type": "execute_result"
    }
   ],
   "source": [
    "# Show the centroids of the best model\n",
    "best_model = KMeans(n_clusters=7, random_state=10)\n",
    "best_model.fit(rfm_zscore)\n",
    "best_model.cluster_centers_\n",
    "# Add the column names to the centroids\n",
    "centroids = pd.DataFrame(best_model.cluster_centers_, columns=rfm.columns)\n",
    "centroids"
   ]
  },
  {
   "cell_type": "code",
   "execution_count": 49,
   "metadata": {},
   "outputs": [
    {
     "data": {
      "text/html": [
       "<div>\n",
       "<style scoped>\n",
       "    .dataframe tbody tr th:only-of-type {\n",
       "        vertical-align: middle;\n",
       "    }\n",
       "\n",
       "    .dataframe tbody tr th {\n",
       "        vertical-align: top;\n",
       "    }\n",
       "\n",
       "    .dataframe thead th {\n",
       "        text-align: right;\n",
       "    }\n",
       "</style>\n",
       "<table border=\"1\" class=\"dataframe\">\n",
       "  <thead>\n",
       "    <tr style=\"text-align: right;\">\n",
       "      <th></th>\n",
       "      <th>Amount</th>\n",
       "      <th>recency</th>\n",
       "      <th>frequency</th>\n",
       "    </tr>\n",
       "  </thead>\n",
       "  <tbody>\n",
       "    <tr>\n",
       "      <th>0</th>\n",
       "      <td>934.330600</td>\n",
       "      <td>90.046729</td>\n",
       "      <td>0.337440</td>\n",
       "    </tr>\n",
       "    <tr>\n",
       "      <th>1</th>\n",
       "      <td>59036.456190</td>\n",
       "      <td>44.190476</td>\n",
       "      <td>3.881544</td>\n",
       "    </tr>\n",
       "    <tr>\n",
       "      <th>2</th>\n",
       "      <td>542.831361</td>\n",
       "      <td>279.866044</td>\n",
       "      <td>0.148400</td>\n",
       "    </tr>\n",
       "    <tr>\n",
       "      <th>3</th>\n",
       "      <td>225721.652500</td>\n",
       "      <td>24.250000</td>\n",
       "      <td>3.585845</td>\n",
       "    </tr>\n",
       "    <tr>\n",
       "      <th>4</th>\n",
       "      <td>72845.453333</td>\n",
       "      <td>22.666667</td>\n",
       "      <td>13.544304</td>\n",
       "    </tr>\n",
       "    <tr>\n",
       "      <th>5</th>\n",
       "      <td>6796.250979</td>\n",
       "      <td>32.587234</td>\n",
       "      <td>1.924283</td>\n",
       "    </tr>\n",
       "    <tr>\n",
       "      <th>6</th>\n",
       "      <td>2110.360441</td>\n",
       "      <td>40.779753</td>\n",
       "      <td>0.787541</td>\n",
       "    </tr>\n",
       "  </tbody>\n",
       "</table>\n",
       "</div>"
      ],
      "text/plain": [
       "          Amount     recency  frequency\n",
       "0     934.330600   90.046729   0.337440\n",
       "1   59036.456190   44.190476   3.881544\n",
       "2     542.831361  279.866044   0.148400\n",
       "3  225721.652500   24.250000   3.585845\n",
       "4   72845.453333   22.666667  13.544304\n",
       "5    6796.250979   32.587234   1.924283\n",
       "6    2110.360441   40.779753   0.787541"
      ]
     },
     "execution_count": 49,
     "metadata": {},
     "output_type": "execute_result"
    }
   ],
   "source": [
    "# Convert centroids to original scale\n",
    "centroids_original = centroids * rfm.std() + rfm.mean()\n",
    "centroids_original"
   ]
  },
  {
   "cell_type": "markdown",
   "metadata": {},
   "source": [
    "ผลวิเคราะห์ มีลูกคาทั้งหมด 7 กลุ่ม ได้แก่ \n",
    "กลุ่ม 0 เป็นลูกค้าที่ซื้อน้อย ความใหม่ประมาณหนึ่งเมื่อ 3 เดือนที่เเล้ว \n",
    "กลุ่ม 1 ลูกค้าที่ซื้อเยอะ ความใหม่ประมาณ 44 วันที่ผ่านมา เฉลี่ยซื้อวันละประมาณ 4 invoice อาจจะเป็น WHoleSalers รายย่อย เงินหมุนเวียนไม่เยอะ\n",
    "กลุ่ม 2 กลุ่มลูกค้าซื้อต่ำ และไม่ซื้อมานานเเล้ว ประมาณ 280 วัน เป็นกลุ่มที่อาจไม่พอใจสินค้าและเลิกซื้อไป\n",
    "กลุ่ม 3 กลุ่มที่จ่ายเยอะวันละประมาณ 4 invoice และซื้อล่าสุดเมื่อ 24 วันที่ผ่านมา อาจจเป็น WHoleSalers เนื่องจากซื้อเยอะ \n",
    "กลุ่ม 4 กลุ่มลูกจ่ายเยอะ วันละประมาณ 14 invoice และซื้อถี่ ล่าสุดคือ 22 วันที่เเล้ว อาจเป็น WHoleSalers รายย่อย\n",
    "กลุ่ม 5 ซื้อพอประมาณ และซื้อเมื่อ 33 วันที่เเล้ว วันละประมาณ 2 Invoice น่าจะเป็นลูกค้าใหม่ที่กำลังเริ่มติดใจสินค้า \n",
    "กลุ่ม 6 ซื้อพอประมาณ ใกล้เคียงกับกลุ่มที่ 5 แต่ยอดขายต่ำกว่า คาด่าเป็นลูกค้าใหม่ที่กำลังซื้อไม่เยอะ"
   ]
  },
  {
   "cell_type": "code",
   "execution_count": 50,
   "metadata": {},
   "outputs": [],
   "source": [
    "# Use GMM to cluster\n",
    "from sklearn.mixture import GaussianMixture\n",
    "# Use number of clusters from 3 to 12\n",
    "k_range = range(3, 13)\n",
    "# bic score\n",
    "bic = []\n",
    "for k in k_range:\n",
    "    # Create a GaussianMixture instance with k clusters\n",
    "    gmm = GaussianMixture(n_components=k, random_state=10, n_init=30)\n",
    "    # Fit the input data. Notice we don't use y\n",
    "    gmm.fit(rfm)\n",
    "    # Append the bic score\n",
    "    bic.append(gmm.bic(rfm))"
   ]
  },
  {
   "cell_type": "code",
   "execution_count": 51,
   "metadata": {},
   "outputs": [
    {
     "data": {
      "text/plain": [
       "<Axes: xlabel='k', ylabel='bic'>"
      ]
     },
     "execution_count": 51,
     "metadata": {},
     "output_type": "execute_result"
    },
    {
     "data": {
      "image/png": "[encoded data removed]",
      "text/plain": [
       "<Figure size 640x480 with 1 Axes>"
      ]
     },
     "metadata": {},
     "output_type": "display_data"
    }
   ],
   "source": [
    "# Make a plot of bic score vs k using seaborn\n",
    "scores = pd.DataFrame({'k': k_range, 'bic': bic})\n",
    "sns.lineplot(x='k', y='bic', data=scores)"
   ]
  },
  {
   "cell_type": "code",
   "execution_count": 53,
   "metadata": {},
   "outputs": [
    {
     "data": {
      "text/html": [
       "<div>\n",
       "<style scoped>\n",
       "    .dataframe tbody tr th:only-of-type {\n",
       "        vertical-align: middle;\n",
       "    }\n",
       "\n",
       "    .dataframe tbody tr th {\n",
       "        vertical-align: top;\n",
       "    }\n",
       "\n",
       "    .dataframe thead th {\n",
       "        text-align: right;\n",
       "    }\n",
       "</style>\n",
       "<table border=\"1\" class=\"dataframe\">\n",
       "  <thead>\n",
       "    <tr style=\"text-align: right;\">\n",
       "      <th></th>\n",
       "      <th>Amount</th>\n",
       "      <th>recency</th>\n",
       "      <th>frequency</th>\n",
       "    </tr>\n",
       "  </thead>\n",
       "  <tbody>\n",
       "    <tr>\n",
       "      <th>0</th>\n",
       "      <td>407.423527</td>\n",
       "      <td>213.311050</td>\n",
       "      <td>0.185492</td>\n",
       "    </tr>\n",
       "    <tr>\n",
       "      <th>1</th>\n",
       "      <td>16049.075005</td>\n",
       "      <td>112.492846</td>\n",
       "      <td>1.812282</td>\n",
       "    </tr>\n",
       "    <tr>\n",
       "      <th>2</th>\n",
       "      <td>225721.652500</td>\n",
       "      <td>24.250000</td>\n",
       "      <td>3.585845</td>\n",
       "    </tr>\n",
       "    <tr>\n",
       "      <th>3</th>\n",
       "      <td>2759.680507</td>\n",
       "      <td>35.275524</td>\n",
       "      <td>0.998120</td>\n",
       "    </tr>\n",
       "    <tr>\n",
       "      <th>4</th>\n",
       "      <td>1081.004742</td>\n",
       "      <td>70.254956</td>\n",
       "      <td>0.462559</td>\n",
       "    </tr>\n",
       "  </tbody>\n",
       "</table>\n",
       "</div>"
      ],
      "text/plain": [
       "          Amount     recency  frequency\n",
       "0     407.423527  213.311050   0.185492\n",
       "1   16049.075005  112.492846   1.812282\n",
       "2  225721.652500   24.250000   3.585845\n",
       "3    2759.680507   35.275524   0.998120\n",
       "4    1081.004742   70.254956   0.462559"
      ]
     },
     "execution_count": 53,
     "metadata": {},
     "output_type": "execute_result"
    }
   ],
   "source": [
    "# fit GMM model with 5 clusters\n",
    "gmm = GaussianMixture(n_components=5, random_state=10, n_init=30)\n",
    "gmm.fit(rfm)\n",
    "# Show the means of the clusters with the columns of rfm\n",
    "centroids = pd.DataFrame(gmm.means_, columns=rfm.columns)\n",
    "centroids"
   ]
  },
  {
   "cell_type": "markdown",
   "metadata": {},
   "source": [
    "ผลการแบ่ง Cluster มี 5 กลุ่ม \n",
    "กลุ่ม 0 ซื้อน้อย และซื้อเมื่อนานมาเเล้ว อาจเป็นลูกค้าที่อาจไม่พอใจสินค้า ไปจากเราเเล้ว \n",
    "กลุ่ม 1 รองลงมาจากกลุ่ม 2 ซื้อเยอะ เป็นสมาชิกตั้งแต่ต้นปี แต่อาจจะไม่บ่อยเท่ากลุ่ม 2 เฉลี่ยตกวันละ 2 invoice เป็น WHoleSalers รายย่อย\n",
    "กลุ่ม 2 กลุ่มซื้อเยอะ และซื้อเมื่อ 24 วนที่ผ่านมา เฉลี่ยตกวันละ 4 invoice กลุ่มลูกค้า WHoleSalers รายใหญ่\n",
    "กลุ่ม 3 กลุ่มลูกค้าที่ยอดซื้อดี ซื้อครั้งล่าสุดเมื่อ 35 วันที่เเล้ว เฉลี่ยวันละประมาณ 1 invoice คาดว่าเป็นลูกค้าที่กำลังติดใจ \n",
    "กลุ่ม 4 กลุ่มลูกค้าที่ยอดซื้อดี ซื้อครั้งล่าสุดเมื่อ 70 วันที่เเล้ว ความถี่ต่ำ อาจเป็นลูกค้าที่กำลังจะเปลี่ยนใจจากเรา > Churn\n"
   ]
  },
  {
   "cell_type": "code",
   "execution_count": 54,
   "metadata": {},
   "outputs": [
    {
     "data": {
      "text/plain": [
       "<Axes: xlabel='Amount', ylabel='frequency'>"
      ]
     },
     "execution_count": 54,
     "metadata": {},
     "output_type": "execute_result"
    },
    {
     "data": {
      "image/png": "[encoded data removed]",
      "text/plain": [
       "<Figure size 640x480 with 1 Axes>"
      ]
     },
     "metadata": {},
     "output_type": "display_data"
    }
   ],
   "source": [
    "# Make scatter plots of Amount vs recency centroids using seaborn\n",
    "sns.scatterplot(x='Amount', y='frequency', data=centroids, s=100, color='black')\n"
   ]
  },
  {
   "cell_type": "code",
   "execution_count": 55,
   "metadata": {},
   "outputs": [
    {
     "name": "stdout",
     "output_type": "stream",
     "text": [
      "Index(['Amount', 'recency', 'frequency'], dtype='object')\n"
     ]
    }
   ],
   "source": [
    "print(rfm.columns)"
   ]
  },
  {
   "cell_type": "code",
   "execution_count": 56,
   "metadata": {},
   "outputs": [],
   "source": [
    "# Assign cluster labels to rfm\n",
    "rfm['cluster'] = gmm.predict(rfm)"
   ]
  },
  {
   "cell_type": "code",
   "execution_count": 57,
   "metadata": {},
   "outputs": [
    {
     "data": {
      "text/plain": [
       "CustomerID\n",
       "12346.0    1\n",
       "12347.0    3\n",
       "12348.0    4\n",
       "12349.0    3\n",
       "12350.0    0\n",
       "          ..\n",
       "18280.0    0\n",
       "18281.0    0\n",
       "18282.0    4\n",
       "18283.0    3\n",
       "18287.0    4\n",
       "Name: cluster, Length: 4339, dtype: int64"
      ]
     },
     "execution_count": 57,
     "metadata": {},
     "output_type": "execute_result"
    }
   ],
   "source": [
    "rfm['cluster']"
   ]
  },
  {
   "cell_type": "code",
   "execution_count": 58,
   "metadata": {},
   "outputs": [
    {
     "data": {
      "text/html": [
       "<div>\n",
       "<style scoped>\n",
       "    .dataframe tbody tr th:only-of-type {\n",
       "        vertical-align: middle;\n",
       "    }\n",
       "\n",
       "    .dataframe tbody tr th {\n",
       "        vertical-align: top;\n",
       "    }\n",
       "\n",
       "    .dataframe thead th {\n",
       "        text-align: right;\n",
       "    }\n",
       "</style>\n",
       "<table border=\"1\" class=\"dataframe\">\n",
       "  <thead>\n",
       "    <tr style=\"text-align: right;\">\n",
       "      <th></th>\n",
       "      <th>InvoiceNo</th>\n",
       "      <th>StockCode</th>\n",
       "      <th>Product</th>\n",
       "      <th>Quantity</th>\n",
       "      <th>InvoiceDate</th>\n",
       "      <th>UnitPrice</th>\n",
       "      <th>CustomerID</th>\n",
       "      <th>Country</th>\n",
       "      <th>amount</th>\n",
       "      <th>Amount</th>\n",
       "      <th>cluster</th>\n",
       "    </tr>\n",
       "  </thead>\n",
       "  <tbody>\n",
       "    <tr>\n",
       "      <th>0</th>\n",
       "      <td>536365</td>\n",
       "      <td>85123A</td>\n",
       "      <td>WHITE HANGING HEART T-LIGHT HOLDER</td>\n",
       "      <td>6</td>\n",
       "      <td>2010-12-01 08:26:00</td>\n",
       "      <td>2.55</td>\n",
       "      <td>17850.0</td>\n",
       "      <td>United Kingdom</td>\n",
       "      <td>15.30</td>\n",
       "      <td>15.30</td>\n",
       "      <td>1</td>\n",
       "    </tr>\n",
       "    <tr>\n",
       "      <th>1</th>\n",
       "      <td>536365</td>\n",
       "      <td>71053</td>\n",
       "      <td>WHITE METAL LANTERN</td>\n",
       "      <td>6</td>\n",
       "      <td>2010-12-01 08:26:00</td>\n",
       "      <td>3.39</td>\n",
       "      <td>17850.0</td>\n",
       "      <td>United Kingdom</td>\n",
       "      <td>20.34</td>\n",
       "      <td>20.34</td>\n",
       "      <td>1</td>\n",
       "    </tr>\n",
       "    <tr>\n",
       "      <th>2</th>\n",
       "      <td>536365</td>\n",
       "      <td>84406B</td>\n",
       "      <td>CREAM CUPID HEARTS COAT HANGER</td>\n",
       "      <td>8</td>\n",
       "      <td>2010-12-01 08:26:00</td>\n",
       "      <td>2.75</td>\n",
       "      <td>17850.0</td>\n",
       "      <td>United Kingdom</td>\n",
       "      <td>22.00</td>\n",
       "      <td>22.00</td>\n",
       "      <td>1</td>\n",
       "    </tr>\n",
       "    <tr>\n",
       "      <th>3</th>\n",
       "      <td>536365</td>\n",
       "      <td>84029G</td>\n",
       "      <td>KNITTED UNION FLAG HOT WATER BOTTLE</td>\n",
       "      <td>6</td>\n",
       "      <td>2010-12-01 08:26:00</td>\n",
       "      <td>3.39</td>\n",
       "      <td>17850.0</td>\n",
       "      <td>United Kingdom</td>\n",
       "      <td>20.34</td>\n",
       "      <td>20.34</td>\n",
       "      <td>1</td>\n",
       "    </tr>\n",
       "    <tr>\n",
       "      <th>4</th>\n",
       "      <td>536365</td>\n",
       "      <td>84029E</td>\n",
       "      <td>RED WOOLLY HOTTIE WHITE HEART.</td>\n",
       "      <td>6</td>\n",
       "      <td>2010-12-01 08:26:00</td>\n",
       "      <td>3.39</td>\n",
       "      <td>17850.0</td>\n",
       "      <td>United Kingdom</td>\n",
       "      <td>20.34</td>\n",
       "      <td>20.34</td>\n",
       "      <td>1</td>\n",
       "    </tr>\n",
       "  </tbody>\n",
       "</table>\n",
       "</div>"
      ],
      "text/plain": [
       "  InvoiceNo StockCode                              Product  Quantity  \\\n",
       "0    536365    85123A   WHITE HANGING HEART T-LIGHT HOLDER         6   \n",
       "1    536365     71053                  WHITE METAL LANTERN         6   \n",
       "2    536365    84406B       CREAM CUPID HEARTS COAT HANGER         8   \n",
       "3    536365    84029G  KNITTED UNION FLAG HOT WATER BOTTLE         6   \n",
       "4    536365    84029E       RED WOOLLY HOTTIE WHITE HEART.         6   \n",
       "\n",
       "          InvoiceDate  UnitPrice CustomerID         Country  amount  Amount  \\\n",
       "0 2010-12-01 08:26:00       2.55    17850.0  United Kingdom   15.30   15.30   \n",
       "1 2010-12-01 08:26:00       3.39    17850.0  United Kingdom   20.34   20.34   \n",
       "2 2010-12-01 08:26:00       2.75    17850.0  United Kingdom   22.00   22.00   \n",
       "3 2010-12-01 08:26:00       3.39    17850.0  United Kingdom   20.34   20.34   \n",
       "4 2010-12-01 08:26:00       3.39    17850.0  United Kingdom   20.34   20.34   \n",
       "\n",
       "   cluster  \n",
       "0        1  \n",
       "1        1  \n",
       "2        1  \n",
       "3        1  \n",
       "4        1  "
      ]
     },
     "execution_count": 58,
     "metadata": {},
     "output_type": "execute_result"
    }
   ],
   "source": [
    "# Assign cluster labels from rfm to data by merging on the CustomerID\n",
    "data = data.merge(rfm['cluster'], left_on='CustomerID', right_index=True)\n",
    "data.head()"
   ]
  },
  {
   "cell_type": "code",
   "execution_count": 59,
   "metadata": {},
   "outputs": [],
   "source": [
    "# Recode cluster 0 to lost, 1 to Loyal big, 2 to Loyal giant, 3 to regular, 4 to Loyal small\n",
    "data['cluster'] = data['cluster'].replace({0: 'Lost', 1: 'Loyal big', 2: 'Loyal giant', 3: 'Regular', 4: 'Loyal small'})\n"
   ]
  },
  {
   "cell_type": "code",
   "execution_count": 60,
   "metadata": {},
   "outputs": [
    {
     "data": {
      "text/plain": [
       "cluster      Product                            \n",
       "Lost         WHITE HANGING HEART T-LIGHT HOLDER     288\n",
       "             REGENCY CAKESTAND 3 TIER               219\n",
       "             PARTY BUNTING                          192\n",
       "             ASSORTED COLOUR BIRD ORNAMENT          186\n",
       "             REX CASH+CARRY JUMBO SHOPPER           169\n",
       "Loyal big    REGENCY CAKESTAND 3 TIER               394\n",
       "             JUMBO BAG RED RETROSPOT                354\n",
       "             WHITE HANGING HEART T-LIGHT HOLDER     322\n",
       "             LUNCH BAG RED RETROSPOT                281\n",
       "             PARTY BUNTING                          238\n",
       "Loyal giant  SPACEBOY LUNCH BOX                      25\n",
       "             ROUND SNACK BOXES SET OF4 WOODLAND      24\n",
       "             CREAM HEART CARD HOLDER                 22\n",
       "             DOLLY GIRL LUNCH BOX                    19\n",
       "             WOOD BLACK BOARD ANT WHITE FINISH       19\n",
       "Loyal small  WHITE HANGING HEART T-LIGHT HOLDER     671\n",
       "             REGENCY CAKESTAND 3 TIER               520\n",
       "             ASSORTED COLOUR BIRD ORNAMENT          497\n",
       "             PARTY BUNTING                          437\n",
       "             JUMBO BAG RED RETROSPOT                419\n",
       "Regular      WHITE HANGING HEART T-LIGHT HOLDER     736\n",
       "             JUMBO BAG RED RETROSPOT                717\n",
       "             LUNCH BAG RED RETROSPOT                625\n",
       "             REGENCY CAKESTAND 3 TIER               583\n",
       "             ASSORTED COLOUR BIRD ORNAMENT          564\n",
       "Name: Product, dtype: int64"
      ]
     },
     "execution_count": 60,
     "metadata": {},
     "output_type": "execute_result"
    }
   ],
   "source": [
    "# What are the common Product for each cluster?\n",
    "data.groupby(['cluster'])['Product'].value_counts().groupby(['cluster']).head(5)"
   ]
  },
  {
   "cell_type": "markdown",
   "metadata": {},
   "source": [
    "กลุ่มสินค้าที่ลูกค้าแต่ละกลุ่มซื้อ ได้แก่\n",
    "Lost         WHITE HANGING HEART T-LIGHT HOLDER     288\n",
    "             REGENCY CAKESTAND 3 TIER               219\n",
    "             PARTY BUNTING                          192\n",
    "             ASSORTED COLOUR BIRD ORNAMENT          186\n",
    "             REX CASH+CARRY JUMBO SHOPPER           169\n",
    "\n",
    "Loyal big    REGENCY CAKESTAND 3 TIER               394\n",
    "             JUMBO BAG RED RETROSPOT                354\n",
    "             WHITE HANGING HEART T-LIGHT HOLDER     322\n",
    "             LUNCH BAG RED RETROSPOT                281\n",
    "             PARTY BUNTING                          238\n",
    "\n",
    "Loyal giant  SPACEBOY LUNCH BOX                      25\n",
    "             ROUND SNACK BOXES SET OF4 WOODLAND      24\n",
    "             CREAM HEART CARD HOLDER                 22\n",
    "             DOLLY GIRL LUNCH BOX                    19\n",
    "             WOOD BLACK BOARD ANT WHITE FINISH       19\n",
    "\n",
    "Loyal small  WHITE HANGING HEART T-LIGHT HOLDER     671\n",
    "             REGENCY CAKESTAND 3 TIER               520\n",
    "             ASSORTED COLOUR BIRD ORNAMENT          497\n",
    "             PARTY BUNTING                          437\n",
    "             JUMBO BAG RED RETROSPOT                419\n",
    "             \n",
    "Regular      WHITE HANGING HEART T-LIGHT HOLDER     736\n",
    "             JUMBO BAG RED RETROSPOT                717\n",
    "             LUNCH BAG RED RETROSPOT                625\n",
    "             REGENCY CAKESTAND 3 TIER               583\n",
    "             ASSORTED COLOUR BIRD ORNAMENT          564"
   ]
  },
  {
   "cell_type": "code",
   "execution_count": 62,
   "metadata": {},
   "outputs": [
    {
     "data": {
      "text/plain": [
       "cluster\n",
       "Loyal big      32.528409\n",
       "Regular        29.507420\n",
       "Loyal small    21.012377\n",
       "Loyal giant    10.131807\n",
       "Lost            6.819987\n",
       "Name: Amount, dtype: float64"
      ]
     },
     "execution_count": 62,
     "metadata": {},
     "output_type": "execute_result"
    }
   ],
   "source": [
    "#Total amount of sales for each cluster\n",
    "total = data.groupby(['cluster'])['Amount'].sum().sort_values(ascending=False)\n",
    "#make it percentage\n",
    "total = total / total.sum() * 100\n",
    "total"
   ]
  },
  {
   "cell_type": "markdown",
   "metadata": {},
   "source": [
    "สรุปผล จากการทำ Clustering ของลูกค้า จะแบ่งออกเป็น 5 กลุ่ม พบว่า \n",
    "กลุ่ม Loyal giant  ไม่ได้ยอดขายสูงอย่างที่เราคิด\n",
    "แต่ กลุ่ม Loyal big , Regular และ Loyal small เป็นกลุ่มที่ยอดขายสูง จะต้องดูแลลูค้าเป็นพิเศษ เนื่องจากยอดขายสูง\n",
    "กลุ่ม Lost อาจจะไม่ต้องสนใจเพื่อดึงกลับมาเพราะเป็นกลุ่มน้อยมาก ควรสนใจกลุ่มหลัก"
   ]
  }
 ],
 "metadata": {
  "kernelspec": {
   "display_name": "base",
   "language": "python",
   "name": "python3"
  },
  "language_info": {
   "codemirror_mode": {
    "name": "ipython",
    "version": 3
   },
   "file_extension": ".py",
   "mimetype": "text/x-python",
   "name": "python",
   "nbconvert_exporter": "python",
   "pygments_lexer": "ipython3",
   "version": "3.10.9"
  }
 },
 "nbformat": 4,
 "nbformat_minor": 2
}
